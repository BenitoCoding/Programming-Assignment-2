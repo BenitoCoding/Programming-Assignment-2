{
 "cells": [
  {
   "cell_type": "markdown",
   "id": "bd933535-a47a-4004-93f9-7c85b31a3280",
   "metadata": {},
   "source": [
    "# Problem 1"
   ]
  },
  {
   "cell_type": "code",
   "execution_count": 12,
   "id": "1aa62591-104e-4b56-a105-a79994fc0baf",
   "metadata": {},
   "outputs": [
    {
     "name": "stdout",
     "output_type": "stream",
     "text": [
      "The Original array:\n",
      "[[0.37454012 0.95071431 0.73199394 0.59865848 0.15601864]\n",
      " [0.15599452 0.05808361 0.86617615 0.60111501 0.70807258]\n",
      " [0.02058449 0.96990985 0.83244264 0.21233911 0.18182497]\n",
      " [0.18340451 0.30424224 0.52475643 0.43194502 0.29122914]\n",
      " [0.61185289 0.13949386 0.29214465 0.36636184 0.45606998]]\n",
      "\n",
      "The normalized array:\n",
      "[[-0.23709911  1.82467557  1.04200929  0.56488331 -1.01905371]\n",
      " [-1.01914002 -1.36950322  1.52216525  0.57367372  0.95640937]\n",
      " [-1.5036896   1.89336468  1.40145369 -0.81751722 -0.92670866]\n",
      " [-0.92105645 -0.48865218  0.30043311 -0.03168212 -0.5352181 ]\n",
      " [ 0.61209803 -1.07818578 -0.53194206 -0.26636415  0.05464636]]\n"
     ]
    }
   ],
   "source": [
    "import numpy as np\n",
    "\n",
    "#Setting the variables to random reproducibility\n",
    "np.random.seed(42)\n",
    "\n",
    "# This creates a 5x5 array\n",
    "s_random = np.random.rand (5, 5)\n",
    "print (\"The Original array:\")\n",
    "print (s_random)\n",
    "print ()\n",
    "\n",
    "# For the computation of the mean and standard deviation\n",
    "std_s = np.std(s_random)\n",
    "# For the mean\n",
    "mean_s = np.mean(s_random)\n",
    "\n",
    "#Normalizing the array\n",
    "s_norm = (s_random - mean_s)/std_s\n",
    "\n",
    "print (\"The normalized array:\")\n",
    "print (s_norm)"
   ]
  },
  {
   "cell_type": "markdown",
   "id": "89b1e7e7-7b4f-44e2-948b-3f3c0c9a57a7",
   "metadata": {},
   "source": [
    "# Problem 2"
   ]
  },
  {
   "cell_type": "code",
   "execution_count": 13,
   "id": "5cb02750-a500-4e72-bb62-86d058c9d221",
   "metadata": {},
   "outputs": [
    {
     "name": "stdout",
     "output_type": "stream",
     "text": [
      "The Array A of the first 100 integers:\n",
      "[[    1     4     9    16    25    36    49    64    81   100]\n",
      " [  121   144   169   196   225   256   289   324   361   400]\n",
      " [  441   484   529   576   625   676   729   784   841   900]\n",
      " [  961  1024  1089  1156  1225  1296  1369  1444  1521  1600]\n",
      " [ 1681  1764  1849  1936  2025  2116  2209  2304  2401  2500]\n",
      " [ 2601  2704  2809  2916  3025  3136  3249  3364  3481  3600]\n",
      " [ 3721  3844  3969  4096  4225  4356  4489  4624  4761  4900]\n",
      " [ 5041  5184  5329  5476  5625  5776  5929  6084  6241  6400]\n",
      " [ 6561  6724  6889  7056  7225  7396  7569  7744  7921  8100]\n",
      " [ 8281  8464  8649  8836  9025  9216  9409  9604  9801 10000]]\n",
      "\n",
      "The elements are divisible by 3:\n",
      "[   9   36   81  144  225  324  441  576  729  900 1089 1296 1521 1764\n",
      " 2025 2304 2601 2916 3249 3600 3969 4356 4761 5184 5625 6084 6561 7056\n",
      " 7569 8100 8649 9216 9801]\n"
     ]
    }
   ],
   "source": [
    "import numpy as np\n",
    "\n",
    "# Create the array of the first 100 positive integers\n",
    "digit = np.arange (1,101)\n",
    "\n",
    "# Squaring the elements (boxing them)\n",
    "box = digit ** 2\n",
    "\n",
    "# Make the array into a 10x10 array\n",
    "ar = box.reshape(10, 10)\n",
    "print(\"The Array A of the first 100 integers:\")\n",
    "print(ar)\n",
    "print()\n",
    "\n",
    "#\n",
    "divisible = ar[ar % 3 == 0]\n",
    "print(\"The elements are divisible by 3:\")\n",
    "print (divisible)\n",
    "\n",
    "# Requirement to save by div_by_3\n",
    "np.save('div_by_3.npy', div_by_3)"
   ]
  }
 ],
 "metadata": {
  "kernelspec": {
   "display_name": "Python 3 (ipykernel)",
   "language": "python",
   "name": "python3"
  },
  "language_info": {
   "codemirror_mode": {
    "name": "ipython",
    "version": 3
   },
   "file_extension": ".py",
   "mimetype": "text/x-python",
   "name": "python",
   "nbconvert_exporter": "python",
   "pygments_lexer": "ipython3",
   "version": "3.13.5"
  }
 },
 "nbformat": 4,
 "nbformat_minor": 5
}
